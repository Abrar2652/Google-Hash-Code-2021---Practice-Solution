{
  "nbformat": 4,
  "nbformat_minor": 0,
  "metadata": {
    "kernelspec": {
      "display_name": "Python 3",
      "language": "python",
      "name": "python3"
    },
    "language_info": {
      "codemirror_mode": {
        "name": "ipython",
        "version": 3
      },
      "file_extension": ".py",
      "mimetype": "text/x-python",
      "name": "python",
      "nbconvert_exporter": "python",
      "pygments_lexer": "ipython3",
      "version": "3.8.5"
    },
    "colab": {
      "name": "Google Hash Code Solution - A.ipynb",
      "provenance": [],
      "collapsed_sections": []
    }
  },
  "cells": [
    {
      "cell_type": "code",
      "metadata": {
        "colab": {
          "base_uri": "https://localhost:8080/"
        },
        "id": "x61SCwI468MZ",
        "outputId": "8c928db4-22ce-4091-e788-ed9cb9650736"
      },
      "source": [
        "import pandas as pd\n",
        "d_path = \"a.txt\"\n",
        "with open(d_path, 'r') as reader:\n",
        "    a = reader.readlines()\n",
        " \n",
        "no_integers = [x for x in a[1:] if not isinstance(x, int)]\n",
        "no_integers"
      ],
      "execution_count": 3,
      "outputs": [
        {
          "output_type": "execute_result",
          "data": {
            "text/plain": [
              "['3 onion pepper olive\\n',\n",
              " '3 mushroom tomato basil\\n',\n",
              " '3 chicken mushroom pepper\\n',\n",
              " '3 tomato mushroom basil\\n',\n",
              " '2 chicken basil\\n']"
            ]
          },
          "metadata": {
            "tags": []
          },
          "execution_count": 3
        }
      ]
    },
    {
      "cell_type": "markdown",
      "metadata": {
        "id": "VkeSHFhm4xov"
      },
      "source": [
        "# New Section"
      ]
    },
    {
      "cell_type": "code",
      "metadata": {
        "colab": {
          "base_uri": "https://localhost:8080/"
        },
        "id": "V8KkjqSQG240",
        "outputId": "4922447c-42e9-42f0-d816-7960492c5b82"
      },
      "source": [
        "d_path = \"a.txt\"\n",
        "d_path=open(d_path, 'r')\n",
        "u = d_path.read().replace('\\n','\\n')\n",
        "u=u.split()\n",
        "u"
      ],
      "execution_count": 4,
      "outputs": [
        {
          "output_type": "execute_result",
          "data": {
            "text/plain": [
              "['5',\n",
              " '1',\n",
              " '2',\n",
              " '1',\n",
              " '3',\n",
              " 'onion',\n",
              " 'pepper',\n",
              " 'olive',\n",
              " '3',\n",
              " 'mushroom',\n",
              " 'tomato',\n",
              " 'basil',\n",
              " '3',\n",
              " 'chicken',\n",
              " 'mushroom',\n",
              " 'pepper',\n",
              " '3',\n",
              " 'tomato',\n",
              " 'mushroom',\n",
              " 'basil',\n",
              " '2',\n",
              " 'chicken',\n",
              " 'basil']"
            ]
          },
          "metadata": {
            "tags": []
          },
          "execution_count": 4
        }
      ]
    },
    {
      "cell_type": "code",
      "metadata": {
        "colab": {
          "base_uri": "https://localhost:8080/"
        },
        "id": "VoHXtpuYG243",
        "outputId": "f544d750-074a-4dd3-896f-888155064a0f"
      },
      "source": [
        "ing=[]\n",
        "for x in u:\n",
        "    if not x.isdigit():\n",
        "        ing.append(x)\n",
        "ing"
      ],
      "execution_count": 5,
      "outputs": [
        {
          "output_type": "execute_result",
          "data": {
            "text/plain": [
              "['onion',\n",
              " 'pepper',\n",
              " 'olive',\n",
              " 'mushroom',\n",
              " 'tomato',\n",
              " 'basil',\n",
              " 'chicken',\n",
              " 'mushroom',\n",
              " 'pepper',\n",
              " 'tomato',\n",
              " 'mushroom',\n",
              " 'basil',\n",
              " 'chicken',\n",
              " 'basil']"
            ]
          },
          "metadata": {
            "tags": []
          },
          "execution_count": 5
        }
      ]
    },
    {
      "cell_type": "code",
      "metadata": {
        "colab": {
          "base_uri": "https://localhost:8080/"
        },
        "id": "vHaG-nLi7Kq_",
        "outputId": "4aafaff6-ce41-43c4-fc0a-653a30696d6d"
      },
      "source": [
        "digits = [int(elem) for elem in u[4:] if elem.isdigit()]\r\n",
        "print(digits)\r\n",
        "\r\n",
        "new2=[]\r\n",
        "y=0\r\n",
        "for x in digits:\r\n",
        "    new=[]\r\n",
        "    for i in range(0,x):\r\n",
        "        new.append(ing[y])\r\n",
        "        y=y+1\r\n",
        "    new2.append(new)        \r\n",
        "new2"
      ],
      "execution_count": 6,
      "outputs": [
        {
          "output_type": "stream",
          "text": [
            "[3, 3, 3, 3, 2]\n"
          ],
          "name": "stdout"
        },
        {
          "output_type": "execute_result",
          "data": {
            "text/plain": [
              "[['onion', 'pepper', 'olive'],\n",
              " ['mushroom', 'tomato', 'basil'],\n",
              " ['chicken', 'mushroom', 'pepper'],\n",
              " ['tomato', 'mushroom', 'basil'],\n",
              " ['chicken', 'basil']]"
            ]
          },
          "metadata": {
            "tags": []
          },
          "execution_count": 6
        }
      ]
    },
    {
      "cell_type": "code",
      "metadata": {
        "colab": {
          "base_uri": "https://localhost:8080/"
        },
        "id": "FWiwFam07OO5",
        "outputId": "47071b35-b87d-4dd2-950e-098d38ab28bb"
      },
      "source": [
        "pizzas_num = int(u[0])\r\n",
        "print(pizzas_num)"
      ],
      "execution_count": 8,
      "outputs": [
        {
          "output_type": "stream",
          "text": [
            "5\n"
          ],
          "name": "stdout"
        }
      ]
    },
    {
      "cell_type": "code",
      "metadata": {
        "colab": {
          "base_uri": "https://localhost:8080/"
        },
        "id": "pqpLTAAv7OVG",
        "outputId": "2a7b1f1b-5521-4d86-e4fc-ad67223d7e21"
      },
      "source": [
        "for x in new2:\r\n",
        "    print(x)"
      ],
      "execution_count": 9,
      "outputs": [
        {
          "output_type": "stream",
          "text": [
            "['onion', 'pepper', 'olive']\n",
            "['mushroom', 'tomato', 'basil']\n",
            "['chicken', 'mushroom', 'pepper']\n",
            "['tomato', 'mushroom', 'basil']\n",
            "['chicken', 'basil']\n"
          ],
          "name": "stdout"
        }
      ]
    },
    {
      "cell_type": "code",
      "metadata": {
        "colab": {
          "base_uri": "https://localhost:8080/"
        },
        "id": "R6JU0Qy-7OcQ",
        "outputId": "00140fe3-3a7e-4c03-92df-9d53645932b3"
      },
      "source": [
        "dic={pizza:new2[pizza] for pizza in range(0,pizzas_num)}\r\n",
        "dic"
      ],
      "execution_count": 10,
      "outputs": [
        {
          "output_type": "execute_result",
          "data": {
            "text/plain": [
              "{0: ['onion', 'pepper', 'olive'],\n",
              " 1: ['mushroom', 'tomato', 'basil'],\n",
              " 2: ['chicken', 'mushroom', 'pepper'],\n",
              " 3: ['tomato', 'mushroom', 'basil'],\n",
              " 4: ['chicken', 'basil']}"
            ]
          },
          "metadata": {
            "tags": []
          },
          "execution_count": 10
        }
      ]
    },
    {
      "cell_type": "code",
      "metadata": {
        "colab": {
          "base_uri": "https://localhost:8080/"
        },
        "id": "1jUXqpA0JF_v",
        "outputId": "6a5e847b-3dbe-4d92-f882-776473e7b7c5"
      },
      "source": [
        "dic[0]"
      ],
      "execution_count": 11,
      "outputs": [
        {
          "output_type": "execute_result",
          "data": {
            "text/plain": [
              "['onion', 'pepper', 'olive']"
            ]
          },
          "metadata": {
            "tags": []
          },
          "execution_count": 11
        }
      ]
    },
    {
      "cell_type": "code",
      "metadata": {
        "colab": {
          "base_uri": "https://localhost:8080/"
        },
        "id": "PyIN4WKCG244",
        "outputId": "37f9fe75-1d43-4c2b-c20e-50980987271a"
      },
      "source": [
        "t2=int(u[1])\n",
        "t3=int(u[2])\n",
        "t4=int(u[3])\n",
        "type(int(t4))"
      ],
      "execution_count": 12,
      "outputs": [
        {
          "output_type": "execute_result",
          "data": {
            "text/plain": [
              "int"
            ]
          },
          "metadata": {
            "tags": []
          },
          "execution_count": 12
        }
      ]
    },
    {
      "cell_type": "code",
      "metadata": {
        "id": "fUVVGqlEG245"
      },
      "source": [
        "# Function to create combinations  \n",
        "# without itertools \n",
        "\n",
        "def combinations_fnc(lst, n): \n",
        "      \n",
        "    if n == 0: \n",
        "        return [[]] \n",
        "      \n",
        "    l =[] \n",
        "    for i in range(0, len(lst)): \n",
        "          \n",
        "        m = lst[i] \n",
        "        remLst = lst[i + 1:] \n",
        "          \n",
        "        for p in combinations_fnc(remLst, n-1): \n",
        "            l.append([m]+p) \n",
        "              \n",
        "    return l \n"
      ],
      "execution_count": 13,
      "outputs": []
    },
    {
      "cell_type": "code",
      "metadata": {
        "id": "Nfre-fnSZB6D"
      },
      "source": [
        "import itertools"
      ],
      "execution_count": 14,
      "outputs": []
    },
    {
      "cell_type": "code",
      "metadata": {
        "colab": {
          "base_uri": "https://localhost:8080/"
        },
        "id": "t2obKrs9G246",
        "outputId": "19f8b3fb-8417-4def-efdd-4e6013b9d938"
      },
      "source": [
        "pizzas=list(range(0,pizzas_num))\n",
        "print(pizzas)\n",
        "comb_t2=combinations_fnc(pizzas,2)\n",
        "comb_t3=combinations_fnc(pizzas,3)\n",
        "comb_t4=combinations_fnc(pizzas,4)\n",
        "#comb_t2=[item for item in itertools.combinations(pizzas,2)]\n",
        "#comb_t3=[item for item in itertools.combinations(pizzas,3)]\n",
        "#comb_t4=[item for item in itertools.combinations(pizzas,4)]"
      ],
      "execution_count": 16,
      "outputs": [
        {
          "output_type": "stream",
          "text": [
            "[0, 1, 2, 3, 4]\n"
          ],
          "name": "stdout"
        }
      ]
    },
    {
      "cell_type": "code",
      "metadata": {
        "id": "dYA3BU0wbj1a"
      },
      "source": [
        "import itertools\r\n",
        "from itertools import combinations\r\n",
        "test_list=range(0,500)\r\n",
        "i,j=2,4\r\n",
        "res=[]\r\n",
        "for sub in range(j):\r\n",
        "    if sub >= (i-1):\r\n",
        "        res.extend(combinations(test_list,sub+1))\r\n",
        "print(res)"
      ],
      "execution_count": null,
      "outputs": []
    },
    {
      "cell_type": "code",
      "metadata": {
        "colab": {
          "base_uri": "https://localhost:8080/"
        },
        "id": "mmQGxqOoG248",
        "outputId": "42db1637-6af8-46d9-b876-5c4310fdbcf4"
      },
      "source": [
        "total=comb_t2 + comb_t3 + comb_t4\n",
        "total"
      ],
      "execution_count": 17,
      "outputs": [
        {
          "output_type": "execute_result",
          "data": {
            "text/plain": [
              "[[0, 1],\n",
              " [0, 2],\n",
              " [0, 3],\n",
              " [0, 4],\n",
              " [1, 2],\n",
              " [1, 3],\n",
              " [1, 4],\n",
              " [2, 3],\n",
              " [2, 4],\n",
              " [3, 4],\n",
              " [0, 1, 2],\n",
              " [0, 1, 3],\n",
              " [0, 1, 4],\n",
              " [0, 2, 3],\n",
              " [0, 2, 4],\n",
              " [0, 3, 4],\n",
              " [1, 2, 3],\n",
              " [1, 2, 4],\n",
              " [1, 3, 4],\n",
              " [2, 3, 4],\n",
              " [0, 1, 2, 3],\n",
              " [0, 1, 2, 4],\n",
              " [0, 1, 3, 4],\n",
              " [0, 2, 3, 4],\n",
              " [1, 2, 3, 4]]"
            ]
          },
          "metadata": {
            "tags": []
          },
          "execution_count": 17
        }
      ]
    },
    {
      "cell_type": "code",
      "metadata": {
        "id": "sj57PkWZG249"
      },
      "source": [
        "def allUnique(x):\n",
        "        seen = list()\n",
        "        return not any(i in seen or seen.append(i) for i in x)"
      ],
      "execution_count": 18,
      "outputs": []
    },
    {
      "cell_type": "code",
      "metadata": {
        "id": "ukS279XeQGeY"
      },
      "source": [
        "from itertools import combinations"
      ],
      "execution_count": 19,
      "outputs": []
    },
    {
      "cell_type": "code",
      "metadata": {
        "id": "CAq9ANzdJSFO"
      },
      "source": [
        "#len([item for item in itertools.combinations(total,2)])"
      ],
      "execution_count": 20,
      "outputs": []
    },
    {
      "cell_type": "code",
      "metadata": {
        "id": "DCIWVSHDG25A"
      },
      "source": [
        "m=[]\r\n",
        "for i,j in [item for item in itertools.combinations(total,2)]: \r\n",
        "    if allUnique(i+j)==True:\r\n",
        "        m.append([i,j])"
      ],
      "execution_count": 21,
      "outputs": []
    },
    {
      "cell_type": "code",
      "metadata": {
        "colab": {
          "base_uri": "https://localhost:8080/"
        },
        "id": "_RLwVLtoTG_u",
        "outputId": "3ce96080-cef3-4efc-d120-23963979d826"
      },
      "source": [
        "m"
      ],
      "execution_count": 22,
      "outputs": [
        {
          "output_type": "execute_result",
          "data": {
            "text/plain": [
              "[[[0, 1], [2, 3]],\n",
              " [[0, 1], [2, 4]],\n",
              " [[0, 1], [3, 4]],\n",
              " [[0, 1], [2, 3, 4]],\n",
              " [[0, 2], [1, 3]],\n",
              " [[0, 2], [1, 4]],\n",
              " [[0, 2], [3, 4]],\n",
              " [[0, 2], [1, 3, 4]],\n",
              " [[0, 3], [1, 2]],\n",
              " [[0, 3], [1, 4]],\n",
              " [[0, 3], [2, 4]],\n",
              " [[0, 3], [1, 2, 4]],\n",
              " [[0, 4], [1, 2]],\n",
              " [[0, 4], [1, 3]],\n",
              " [[0, 4], [2, 3]],\n",
              " [[0, 4], [1, 2, 3]],\n",
              " [[1, 2], [3, 4]],\n",
              " [[1, 2], [0, 3, 4]],\n",
              " [[1, 3], [2, 4]],\n",
              " [[1, 3], [0, 2, 4]],\n",
              " [[1, 4], [2, 3]],\n",
              " [[1, 4], [0, 2, 3]],\n",
              " [[2, 3], [0, 1, 4]],\n",
              " [[2, 4], [0, 1, 3]],\n",
              " [[3, 4], [0, 1, 2]]]"
            ]
          },
          "metadata": {
            "tags": []
          },
          "execution_count": 22
        }
      ]
    },
    {
      "cell_type": "code",
      "metadata": {
        "id": "eSy0Cb6GTJFB"
      },
      "source": [
        "n=[]\r\n",
        "for i,j in m:\r\n",
        "    if(len(i)+len(j)<=pizzas_num)==True:\r\n",
        "        n.append([i,j])"
      ],
      "execution_count": 23,
      "outputs": []
    },
    {
      "cell_type": "code",
      "metadata": {
        "colab": {
          "base_uri": "https://localhost:8080/"
        },
        "id": "uCBS_ZkLVFr2",
        "outputId": "e2d6de08-51e4-458b-9f67-c9af9295f7f2"
      },
      "source": [
        "n"
      ],
      "execution_count": 24,
      "outputs": [
        {
          "output_type": "execute_result",
          "data": {
            "text/plain": [
              "[[[0, 1], [2, 3]],\n",
              " [[0, 1], [2, 4]],\n",
              " [[0, 1], [3, 4]],\n",
              " [[0, 1], [2, 3, 4]],\n",
              " [[0, 2], [1, 3]],\n",
              " [[0, 2], [1, 4]],\n",
              " [[0, 2], [3, 4]],\n",
              " [[0, 2], [1, 3, 4]],\n",
              " [[0, 3], [1, 2]],\n",
              " [[0, 3], [1, 4]],\n",
              " [[0, 3], [2, 4]],\n",
              " [[0, 3], [1, 2, 4]],\n",
              " [[0, 4], [1, 2]],\n",
              " [[0, 4], [1, 3]],\n",
              " [[0, 4], [2, 3]],\n",
              " [[0, 4], [1, 2, 3]],\n",
              " [[1, 2], [3, 4]],\n",
              " [[1, 2], [0, 3, 4]],\n",
              " [[1, 3], [2, 4]],\n",
              " [[1, 3], [0, 2, 4]],\n",
              " [[1, 4], [2, 3]],\n",
              " [[1, 4], [0, 2, 3]],\n",
              " [[2, 3], [0, 1, 4]],\n",
              " [[2, 4], [0, 1, 3]],\n",
              " [[3, 4], [0, 1, 2]]]"
            ]
          },
          "metadata": {
            "tags": []
          },
          "execution_count": 24
        }
      ]
    },
    {
      "cell_type": "code",
      "metadata": {
        "id": "uMap04MvVJi1",
        "colab": {
          "base_uri": "https://localhost:8080/"
        },
        "outputId": "2ad3deb4-4fff-445e-f48e-9e3471d0c67c"
      },
      "source": [
        "#all unique possible combinations taking \r\n",
        "for i,j in n:\r\n",
        "    print(i,j)"
      ],
      "execution_count": 25,
      "outputs": [
        {
          "output_type": "stream",
          "text": [
            "[0, 1] [2, 3]\n",
            "[0, 1] [2, 4]\n",
            "[0, 1] [3, 4]\n",
            "[0, 1] [2, 3, 4]\n",
            "[0, 2] [1, 3]\n",
            "[0, 2] [1, 4]\n",
            "[0, 2] [3, 4]\n",
            "[0, 2] [1, 3, 4]\n",
            "[0, 3] [1, 2]\n",
            "[0, 3] [1, 4]\n",
            "[0, 3] [2, 4]\n",
            "[0, 3] [1, 2, 4]\n",
            "[0, 4] [1, 2]\n",
            "[0, 4] [1, 3]\n",
            "[0, 4] [2, 3]\n",
            "[0, 4] [1, 2, 3]\n",
            "[1, 2] [3, 4]\n",
            "[1, 2] [0, 3, 4]\n",
            "[1, 3] [2, 4]\n",
            "[1, 3] [0, 2, 4]\n",
            "[1, 4] [2, 3]\n",
            "[1, 4] [0, 2, 3]\n",
            "[2, 3] [0, 1, 4]\n",
            "[2, 4] [0, 1, 3]\n",
            "[3, 4] [0, 1, 2]\n"
          ],
          "name": "stdout"
        }
      ]
    },
    {
      "cell_type": "code",
      "metadata": {
        "colab": {
          "base_uri": "https://localhost:8080/"
        },
        "id": "PN0QlOSPJkQ7",
        "outputId": "4e04b9fd-f566-4b72-f88c-7e3b8615a895"
      },
      "source": [
        "temp2=[]\r\n",
        "z=[]\r\n",
        "for i,j in n:\r\n",
        "    temp=[]\r\n",
        "    z=[]\r\n",
        "    for x in i: \r\n",
        "        z=z+dic[x]\r\n",
        "        temp.append(z) \r\n",
        "    temp2.append(z)\r\n",
        "temp2"
      ],
      "execution_count": 26,
      "outputs": [
        {
          "output_type": "execute_result",
          "data": {
            "text/plain": [
              "[['onion', 'pepper', 'olive', 'mushroom', 'tomato', 'basil'],\n",
              " ['onion', 'pepper', 'olive', 'mushroom', 'tomato', 'basil'],\n",
              " ['onion', 'pepper', 'olive', 'mushroom', 'tomato', 'basil'],\n",
              " ['onion', 'pepper', 'olive', 'mushroom', 'tomato', 'basil'],\n",
              " ['onion', 'pepper', 'olive', 'chicken', 'mushroom', 'pepper'],\n",
              " ['onion', 'pepper', 'olive', 'chicken', 'mushroom', 'pepper'],\n",
              " ['onion', 'pepper', 'olive', 'chicken', 'mushroom', 'pepper'],\n",
              " ['onion', 'pepper', 'olive', 'chicken', 'mushroom', 'pepper'],\n",
              " ['onion', 'pepper', 'olive', 'tomato', 'mushroom', 'basil'],\n",
              " ['onion', 'pepper', 'olive', 'tomato', 'mushroom', 'basil'],\n",
              " ['onion', 'pepper', 'olive', 'tomato', 'mushroom', 'basil'],\n",
              " ['onion', 'pepper', 'olive', 'tomato', 'mushroom', 'basil'],\n",
              " ['onion', 'pepper', 'olive', 'chicken', 'basil'],\n",
              " ['onion', 'pepper', 'olive', 'chicken', 'basil'],\n",
              " ['onion', 'pepper', 'olive', 'chicken', 'basil'],\n",
              " ['onion', 'pepper', 'olive', 'chicken', 'basil'],\n",
              " ['mushroom', 'tomato', 'basil', 'chicken', 'mushroom', 'pepper'],\n",
              " ['mushroom', 'tomato', 'basil', 'chicken', 'mushroom', 'pepper'],\n",
              " ['mushroom', 'tomato', 'basil', 'tomato', 'mushroom', 'basil'],\n",
              " ['mushroom', 'tomato', 'basil', 'tomato', 'mushroom', 'basil'],\n",
              " ['mushroom', 'tomato', 'basil', 'chicken', 'basil'],\n",
              " ['mushroom', 'tomato', 'basil', 'chicken', 'basil'],\n",
              " ['chicken', 'mushroom', 'pepper', 'tomato', 'mushroom', 'basil'],\n",
              " ['chicken', 'mushroom', 'pepper', 'chicken', 'basil'],\n",
              " ['tomato', 'mushroom', 'basil', 'chicken', 'basil']]"
            ]
          },
          "metadata": {
            "tags": []
          },
          "execution_count": 26
        }
      ]
    },
    {
      "cell_type": "code",
      "metadata": {
        "colab": {
          "base_uri": "https://localhost:8080/"
        },
        "id": "8pgJnd8tJm9o",
        "outputId": "92244abf-52b5-4598-f169-0e7e52d9afb5"
      },
      "source": [
        "import numpy as np\r\n",
        "words=['onion', 'pepper', 'olive', 'chicken', 'mushroom', 'pepper']\r\n",
        "len(np.unique(words))"
      ],
      "execution_count": 27,
      "outputs": [
        {
          "output_type": "execute_result",
          "data": {
            "text/plain": [
              "5"
            ]
          },
          "metadata": {
            "tags": []
          },
          "execution_count": 27
        }
      ]
    },
    {
      "cell_type": "code",
      "metadata": {
        "colab": {
          "base_uri": "https://localhost:8080/"
        },
        "id": "O-bYofHGJqJp",
        "outputId": "d0ced942-a743-4d93-bc21-9ffeaa9569ec"
      },
      "source": [
        "for x in temp2:\r\n",
        "    print(len(np.unique(x)))"
      ],
      "execution_count": 28,
      "outputs": [
        {
          "output_type": "stream",
          "text": [
            "6\n",
            "6\n",
            "6\n",
            "6\n",
            "5\n",
            "5\n",
            "5\n",
            "5\n",
            "6\n",
            "6\n",
            "6\n",
            "6\n",
            "5\n",
            "5\n",
            "5\n",
            "5\n",
            "5\n",
            "5\n",
            "3\n",
            "3\n",
            "4\n",
            "4\n",
            "5\n",
            "4\n",
            "4\n"
          ],
          "name": "stdout"
        }
      ]
    },
    {
      "cell_type": "code",
      "metadata": {
        "colab": {
          "base_uri": "https://localhost:8080/"
        },
        "id": "naLF4vk5J3m6",
        "outputId": "db67c877-22ea-4a7d-fc99-0aede7e34559"
      },
      "source": [
        "col1=[]\r\n",
        "for x in temp2:\r\n",
        "    col1.append(len(np.unique(x)))\r\n",
        "len(col1)"
      ],
      "execution_count": 29,
      "outputs": [
        {
          "output_type": "execute_result",
          "data": {
            "text/plain": [
              "25"
            ]
          },
          "metadata": {
            "tags": []
          },
          "execution_count": 29
        }
      ]
    },
    {
      "cell_type": "code",
      "metadata": {
        "colab": {
          "base_uri": "https://localhost:8080/"
        },
        "id": "HV8J_eSI4jh2",
        "outputId": "8ded9602-0a05-4a1e-ac91-98c9efe491d0"
      },
      "source": [
        "temp3=[]\r\n",
        "z=[]\r\n",
        "for i,j in n:\r\n",
        "    temp=[]\r\n",
        "    z=[]\r\n",
        "    for x in j: \r\n",
        "        z=z+dic[x]\r\n",
        "        temp.append(z) \r\n",
        "    temp3.append(z)\r\n",
        "temp3"
      ],
      "execution_count": 30,
      "outputs": [
        {
          "output_type": "execute_result",
          "data": {
            "text/plain": [
              "[['chicken', 'mushroom', 'pepper', 'tomato', 'mushroom', 'basil'],\n",
              " ['chicken', 'mushroom', 'pepper', 'chicken', 'basil'],\n",
              " ['tomato', 'mushroom', 'basil', 'chicken', 'basil'],\n",
              " ['chicken',\n",
              "  'mushroom',\n",
              "  'pepper',\n",
              "  'tomato',\n",
              "  'mushroom',\n",
              "  'basil',\n",
              "  'chicken',\n",
              "  'basil'],\n",
              " ['mushroom', 'tomato', 'basil', 'tomato', 'mushroom', 'basil'],\n",
              " ['mushroom', 'tomato', 'basil', 'chicken', 'basil'],\n",
              " ['tomato', 'mushroom', 'basil', 'chicken', 'basil'],\n",
              " ['mushroom',\n",
              "  'tomato',\n",
              "  'basil',\n",
              "  'tomato',\n",
              "  'mushroom',\n",
              "  'basil',\n",
              "  'chicken',\n",
              "  'basil'],\n",
              " ['mushroom', 'tomato', 'basil', 'chicken', 'mushroom', 'pepper'],\n",
              " ['mushroom', 'tomato', 'basil', 'chicken', 'basil'],\n",
              " ['chicken', 'mushroom', 'pepper', 'chicken', 'basil'],\n",
              " ['mushroom',\n",
              "  'tomato',\n",
              "  'basil',\n",
              "  'chicken',\n",
              "  'mushroom',\n",
              "  'pepper',\n",
              "  'chicken',\n",
              "  'basil'],\n",
              " ['mushroom', 'tomato', 'basil', 'chicken', 'mushroom', 'pepper'],\n",
              " ['mushroom', 'tomato', 'basil', 'tomato', 'mushroom', 'basil'],\n",
              " ['chicken', 'mushroom', 'pepper', 'tomato', 'mushroom', 'basil'],\n",
              " ['mushroom',\n",
              "  'tomato',\n",
              "  'basil',\n",
              "  'chicken',\n",
              "  'mushroom',\n",
              "  'pepper',\n",
              "  'tomato',\n",
              "  'mushroom',\n",
              "  'basil'],\n",
              " ['tomato', 'mushroom', 'basil', 'chicken', 'basil'],\n",
              " ['onion',\n",
              "  'pepper',\n",
              "  'olive',\n",
              "  'tomato',\n",
              "  'mushroom',\n",
              "  'basil',\n",
              "  'chicken',\n",
              "  'basil'],\n",
              " ['chicken', 'mushroom', 'pepper', 'chicken', 'basil'],\n",
              " ['onion',\n",
              "  'pepper',\n",
              "  'olive',\n",
              "  'chicken',\n",
              "  'mushroom',\n",
              "  'pepper',\n",
              "  'chicken',\n",
              "  'basil'],\n",
              " ['chicken', 'mushroom', 'pepper', 'tomato', 'mushroom', 'basil'],\n",
              " ['onion',\n",
              "  'pepper',\n",
              "  'olive',\n",
              "  'chicken',\n",
              "  'mushroom',\n",
              "  'pepper',\n",
              "  'tomato',\n",
              "  'mushroom',\n",
              "  'basil'],\n",
              " ['onion',\n",
              "  'pepper',\n",
              "  'olive',\n",
              "  'mushroom',\n",
              "  'tomato',\n",
              "  'basil',\n",
              "  'chicken',\n",
              "  'basil'],\n",
              " ['onion',\n",
              "  'pepper',\n",
              "  'olive',\n",
              "  'mushroom',\n",
              "  'tomato',\n",
              "  'basil',\n",
              "  'tomato',\n",
              "  'mushroom',\n",
              "  'basil'],\n",
              " ['onion',\n",
              "  'pepper',\n",
              "  'olive',\n",
              "  'mushroom',\n",
              "  'tomato',\n",
              "  'basil',\n",
              "  'chicken',\n",
              "  'mushroom',\n",
              "  'pepper']]"
            ]
          },
          "metadata": {
            "tags": []
          },
          "execution_count": 30
        }
      ]
    },
    {
      "cell_type": "code",
      "metadata": {
        "colab": {
          "base_uri": "https://localhost:8080/"
        },
        "id": "r77Je6Q84jsM",
        "outputId": "56d63bb8-de90-498d-a7d5-4b4d515450b5"
      },
      "source": [
        "col2=[]\r\n",
        "for x in temp3:\r\n",
        "    col2.append(len(np.unique(x)))\r\n",
        "(col2)"
      ],
      "execution_count": 31,
      "outputs": [
        {
          "output_type": "execute_result",
          "data": {
            "text/plain": [
              "[5, 4, 4, 5, 3, 4, 4, 4, 5, 4, 4, 5, 5, 3, 5, 5, 4, 7, 4, 6, 5, 7, 7, 6, 7]"
            ]
          },
          "metadata": {
            "tags": []
          },
          "execution_count": 31
        }
      ]
    },
    {
      "cell_type": "code",
      "metadata": {
        "colab": {
          "base_uri": "https://localhost:8080/"
        },
        "id": "WijNXrTY4jvY",
        "outputId": "2383e734-108a-4009-eee4-f9bd2708f3bd"
      },
      "source": [
        "final_list = [] \r\n",
        "\r\n",
        "# Choose the smaller list to iterate\r\n",
        "list_to_iterate = len(col1) < len(col2) and col1 or col2\r\n",
        "\r\n",
        "for i in range(0, len(list_to_iterate)): \r\n",
        "    final_list.append(pow(col1[i],2) +pow(col2[i],2)) \r\n",
        "final_list\r\n",
        "#list_to_iterate"
      ],
      "execution_count": 32,
      "outputs": [
        {
          "output_type": "execute_result",
          "data": {
            "text/plain": [
              "[61,\n",
              " 52,\n",
              " 52,\n",
              " 61,\n",
              " 34,\n",
              " 41,\n",
              " 41,\n",
              " 41,\n",
              " 61,\n",
              " 52,\n",
              " 52,\n",
              " 61,\n",
              " 50,\n",
              " 34,\n",
              " 50,\n",
              " 50,\n",
              " 41,\n",
              " 74,\n",
              " 25,\n",
              " 45,\n",
              " 41,\n",
              " 65,\n",
              " 74,\n",
              " 52,\n",
              " 65]"
            ]
          },
          "metadata": {
            "tags": []
          },
          "execution_count": 32
        }
      ]
    },
    {
      "cell_type": "code",
      "metadata": {
        "colab": {
          "base_uri": "https://localhost:8080/"
        },
        "id": "bXlyDDI_4jza",
        "outputId": "287c60d2-56fd-477d-affd-3d971a309f43"
      },
      "source": [
        "#indices of the max value\r\n",
        "m = max(final_list)\r\n",
        "indices=[i for i, j in enumerate(final_list) if j == m]\r\n",
        "indices"
      ],
      "execution_count": 33,
      "outputs": [
        {
          "output_type": "execute_result",
          "data": {
            "text/plain": [
              "[17, 22]"
            ]
          },
          "metadata": {
            "tags": []
          },
          "execution_count": 33
        }
      ]
    },
    {
      "cell_type": "code",
      "metadata": {
        "colab": {
          "base_uri": "https://localhost:8080/"
        },
        "id": "KwSWxKl54j3G",
        "outputId": "e55e3565-6d56-461d-fea8-6b7d56bace45"
      },
      "source": [
        "x=[]\r\n",
        "for i in indices:\r\n",
        "    x.append(n[i])\r\n",
        "print(x[0])\r\n"
      ],
      "execution_count": 34,
      "outputs": [
        {
          "output_type": "stream",
          "text": [
            "[[1, 2], [0, 3, 4]]\n"
          ],
          "name": "stdout"
        }
      ]
    },
    {
      "cell_type": "code",
      "metadata": {
        "colab": {
          "base_uri": "https://localhost:8080/"
        },
        "id": "3TWkft4dZbHH",
        "outputId": "35b69fc1-4a34-4b34-f87b-88efbc2cd979"
      },
      "source": [
        "print(len(x[0][0]))"
      ],
      "execution_count": 35,
      "outputs": [
        {
          "output_type": "stream",
          "text": [
            "2\n"
          ],
          "name": "stdout"
        }
      ]
    },
    {
      "cell_type": "code",
      "metadata": {
        "id": "orhSYYx-JCZ6",
        "colab": {
          "base_uri": "https://localhost:8080/"
        },
        "outputId": "95b275f7-4044-4599-849f-ed88b8900db4"
      },
      "source": [
        "print(len(x[0]))\r\n",
        "for i in x[0]:\r\n",
        "  print(len(i),end=\" \")\r\n",
        "  for j in i:\r\n",
        "    print(j, end=\" \")\r\n",
        "  print()"
      ],
      "execution_count": 36,
      "outputs": [
        {
          "output_type": "stream",
          "text": [
            "2\n",
            "2 1 2 \n",
            "3 0 3 4 \n"
          ],
          "name": "stdout"
        }
      ]
    },
    {
      "cell_type": "code",
      "metadata": {
        "id": "3BuwhZIIXksR"
      },
      "source": [
        ""
      ],
      "execution_count": null,
      "outputs": []
    }
  ]
}